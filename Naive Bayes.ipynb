{
 "cells": [
  {
   "cell_type": "code",
   "execution_count": 16,
   "metadata": {},
   "outputs": [],
   "source": [
    "import string\n",
    "import re\n",
    "import math\n",
    "from sklearn.model_selection import KFold\n",
    "from numpy import array\n",
    "from statistics import stdev\n",
    "from statistics import pstdev\n",
    "from statistics import mean\n"
   ]
  },
  {
   "cell_type": "code",
   "execution_count": 17,
   "metadata": {},
   "outputs": [],
   "source": [
    "# read data line by line\n",
    "file = open(r'a1_data\\a1_data\\a1_d3.txt', 'r') \n",
    "Lines = file.readlines() \n",
    "\n",
    "# preprocessing removing symbols and converting to lowercase\n",
    "lines = []\n",
    "for line in Lines: \n",
    "    result = re.sub(r'[^\\w]', ' ', line)\n",
    "    result = result.lower()\n",
    "    lines.append(result)\n",
    "    \n",
    "    \n",
    "lines = array(lines)\n",
    "\n"
   ]
  },
  {
   "cell_type": "code",
   "execution_count": 18,
   "metadata": {},
   "outputs": [],
   "source": [
    "# stop words\n",
    "stop_words = [\"i\", \"me\", \"my\", \"myself\", \"we\", \"our\", \"ours\", \"ourselves\", \"you\", \"your\", \"yours\", \"yourself\", \"yourselves\", \"he\", \"him\", \"his\", \"himself\", \"she\", \"her\", \"hers\", \"herself\", \"it\", \"its\", \"itself\", \"they\", \"them\", \"their\", \"theirs\", \"themselves\", \"what\", \"which\", \"who\", \"whom\", \"this\", \"that\", \"these\", \"those\", \"am\", \"is\", \"are\", \"was\", \"were\", \"be\", \"been\", \"being\", \"have\", \"has\", \"had\", \"having\", \"do\", \"does\", \"did\", \"doing\", \"a\", \"an\", \"the\", \"and\", \"but\", \"if\", \"or\", \"because\", \"as\", \"until\", \"while\", \"of\", \"at\", \"by\", \"for\", \"with\", \"about\", \"against\", \"between\", \"into\", \"through\", \"during\", \"before\", \"after\", \"above\", \"below\", \"to\", \"from\", \"up\", \"down\", \"in\", \"out\", \"on\", \"off\", \"over\", \"under\", \"again\", \"further\", \"then\", \"once\", \"here\", \"there\", \"when\", \"where\", \"why\", \"how\", \"all\", \"any\", \"both\", \"each\", \"few\", \"more\", \"most\", \"other\", \"some\", \"such\", \"no\", \"nor\", \"not\", \"only\", \"own\", \"same\", \"so\", \"than\", \"too\", \"very\", \"s\", \"t\", \"can\", \"will\", \"just\", \"don\", \"should\", \"now\"]"
   ]
  },
  {
   "cell_type": "code",
   "execution_count": 19,
   "metadata": {},
   "outputs": [],
   "source": [
    "# function to calcualte probability\n",
    "def p(words_test):\n",
    "#     when 1\n",
    "    prob_1=len(lines_1)/len(Lines)\n",
    "    for i in words_test:\n",
    "        if i not in dict_1:\n",
    "            dict_1[i] = 0\n",
    "#             smoothing by adding 1 in numerator and total words in train set in denominator\n",
    "        prob_1 = prob_1 + math.log((dict_1[i]+1)/(len(words_1)+len(words_train)))        \n",
    "        \n",
    "        \n",
    "    \n",
    "#     when 0\n",
    "    prob_0=len(lines_0)/len(Lines)\n",
    "    for i in words_test:\n",
    "        if i not in dict_0:\n",
    "            dict_0[i] = 0\n",
    "#             smoothing by adding 1 in numerator and total words in train set in denominator\n",
    "        prob_0 = prob_0 + math.log((dict_0[i]+1)/(len(words_0)+len(words_train)))\n",
    "        \n",
    "            \n",
    "    \n",
    "    if(prob_1>=prob_0):\n",
    "        return 1\n",
    "    return 0\n",
    "    \n",
    "    "
   ]
  },
  {
   "cell_type": "code",
   "execution_count": 20,
   "metadata": {},
   "outputs": [
    {
     "name": "stdout",
     "output_type": "stream",
     "text": [
      "Accuracy =  0.7\n",
      "F1 Score =  0.6842105263157896\n",
      "\n",
      "Accuracy =  0.835\n",
      "F1 Score =  0.83248730964467\n",
      "\n",
      "Accuracy =  0.845\n",
      "F1 Score =  0.8342245989304812\n",
      "\n",
      "Accuracy =  0.855\n",
      "F1 Score =  0.8323699421965318\n",
      "\n",
      "Accuracy =  0.835\n",
      "F1 Score =  0.7924528301886793\n",
      "\n"
     ]
    }
   ],
   "source": [
    "kfold = KFold(5, False,1)\n",
    "Accuracy = []\n",
    "Precision = []\n",
    "Recall = []\n",
    "F1_Score = []\n",
    "words_1 = []\n",
    "words_0 = []\n",
    "lines_1 = []\n",
    "lines_0 = []\n",
    "# 5 fold cross validation\n",
    "for train, test in kfold.split(lines):\n",
    "    lines_train = lines[train]\n",
    "    lines_test = lines[test]\n",
    "    for line in lines_train: \n",
    "        words = line.split()\n",
    "#         segregate words with class 1 and 0\n",
    "        if(words[-1]==\"1\"):\n",
    "            lines_1.append(line)\n",
    "            for word in words:\n",
    "                if word not in stop_words:\n",
    "#                     words_1 = words_1 + word\n",
    "                    words_1.append(word)\n",
    "        if(words[-1]==\"0\"):\n",
    "            lines_0.append(line)\n",
    "            for word in words:\n",
    "                if word not in stop_words:\n",
    "                    words_0.append(word)\n",
    "#                     words_0 = words_0 + word\n",
    "#     to store frequecy of words in train data set        \n",
    "    dict_train={}\n",
    "    words_train = words_0 + words_1\n",
    "    for word in words_train:\n",
    "        if word not in stop_words:\n",
    "            if word not in dict_train:\n",
    "                dict_train[word] = 0 \n",
    "            dict_train[word] += 1\n",
    "    #     to store frequecy of words in train data set having class 0\n",
    "    dict_0={}\n",
    "    for word in words_0:\n",
    "        if word not in stop_words and word != \"0\":\n",
    "            if word not in dict_0:\n",
    "                dict_0[word] = 0 \n",
    "            dict_0[word] += 1\n",
    "      #     to store frequecy of words in train data set having class 1      \n",
    "    dict_1={}\n",
    "    for word in words_1:\n",
    "        if word not in stop_words and word != \"1\" :\n",
    "            if word not in dict_1:\n",
    "                dict_1[word] = 0 \n",
    "            dict_1[word] += 1\n",
    "#        to store true positive, true negative, false positive, false negative respectively     \n",
    "    tp = 0\n",
    "    tn = 0\n",
    "    fp = 0\n",
    "    fn = 0\n",
    "    for line in lines_test:\n",
    "        words = line.split()\n",
    "        prob = p(words)\n",
    "        if(words[-1]==\"1\"):\n",
    "            if(int(words[-1])==prob):\n",
    "                tp = tp + 1\n",
    "            else:\n",
    "                fn = fn + 1\n",
    "        elif(words[-1]==\"0\"):\n",
    "            if(int(words[-1])==prob):\n",
    "                tn = tn + 1\n",
    "            else:\n",
    "                fp = fp + 1\n",
    "        else:\n",
    "            print(\"ERROR\")\n",
    "#         print(line,prob)\n",
    "        \n",
    "    accuracy = (tp+tn)/(tp+tn+fp+fn)\n",
    "    precision = (tp)/(tp+fp)\n",
    "    recall = (tp)/(tp+fn)\n",
    "    f1_score = 2*(recall * precision) / (recall + precision)\n",
    "    Accuracy.append(accuracy)\n",
    "    Precision.append(precision)\n",
    "    Recall.append(recall)\n",
    "    F1_Score.append(f1_score)\n",
    "    print(\"Accuracy = \", accuracy)\n",
    "    print(\"F1 Score = \", f1_score)\n",
    "    print()"
   ]
  },
  {
   "cell_type": "code",
   "execution_count": 21,
   "metadata": {},
   "outputs": [
    {
     "name": "stdout",
     "output_type": "stream",
     "text": [
      "Accuracy =  0.814 ± 0.05748043145279966\n",
      "Precision =  0.8907363135515682 ± 0.08143494964181128\n",
      "Recall =  0.7191743726315534 ± 0.045787708597131264\n",
      "F1 Score =  0.7951490414552304 ± 0.057655987740944596\n"
     ]
    }
   ],
   "source": [
    "print(\"Accuracy = \", mean(Accuracy),\"±\", pstdev(Accuracy))\n",
    "print(\"Precision = \", mean(Precision),\"±\", pstdev(Precision))\n",
    "print(\"Recall = \", mean(Recall),\"±\", pstdev(Recall))\n",
    "print(\"F1 Score = \", mean(F1_Score),\"±\", pstdev(F1_Score))"
   ]
  },
  {
   "cell_type": "code",
   "execution_count": 14,
   "metadata": {},
   "outputs": [],
   "source": []
  },
  {
   "cell_type": "code",
   "execution_count": 8,
   "metadata": {},
   "outputs": [],
   "source": []
  },
  {
   "cell_type": "code",
   "execution_count": 9,
   "metadata": {},
   "outputs": [],
   "source": []
  },
  {
   "cell_type": "code",
   "execution_count": 10,
   "metadata": {},
   "outputs": [],
   "source": []
  },
  {
   "cell_type": "code",
   "execution_count": null,
   "metadata": {},
   "outputs": [],
   "source": []
  }
 ],
 "metadata": {
  "kernelspec": {
   "display_name": "Python 3",
   "language": "python",
   "name": "python3"
  },
  "language_info": {
   "codemirror_mode": {
    "name": "ipython",
    "version": 3
   },
   "file_extension": ".py",
   "mimetype": "text/x-python",
   "name": "python",
   "nbconvert_exporter": "python",
   "pygments_lexer": "ipython3",
   "version": "3.7.1"
  }
 },
 "nbformat": 4,
 "nbformat_minor": 2
}
